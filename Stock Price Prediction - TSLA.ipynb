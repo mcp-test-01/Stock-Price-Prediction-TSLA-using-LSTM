{
 "cells": [
  {
   "cell_type": "markdown",
   "metadata": {},
   "source": [
    "### 1. Imports"
   ]
  },
  {
   "cell_type": "code",
   "execution_count": 227,
   "metadata": {},
   "outputs": [],
   "source": [
    "import yfinance as yf  \n",
    "import numpy as np\n",
    "import pandas as pd\n",
    "import seaborn as sns\n",
    "import matplotlib.pyplot as plt\n",
    "from sklearn.preprocessing import MinMaxScaler\n",
    "from keras.models import Sequential, load_model\n",
    "from keras.layers import LSTM, Dense, Dropout\n",
    "from keras.callbacks import ModelCheckpoint\n",
    "from keras.losses import MSE\n",
    "from keras.optimizers import Adam\n",
    "import os\n",
    "\n",
    "sns.set()"
   ]
  },
  {
   "cell_type": "markdown",
   "metadata": {},
   "source": [
    "### 2. Loading in Dataset"
   ]
  },
  {
   "cell_type": "code",
   "execution_count": 319,
   "metadata": {},
   "outputs": [
    {
     "name": "stdout",
     "output_type": "stream",
     "text": [
      "[*********************100%***********************]  1 of 1 downloaded\n"
     ]
    }
   ],
   "source": [
    "import matplotlib.pyplot as plt\n",
    "df = yf.download('TSLA','2010-06-29','2019-05-28',interval='1d')\n"
   ]
  },
  {
   "cell_type": "code",
   "execution_count": 320,
   "metadata": {},
   "outputs": [],
   "source": [
    "df1 = df.copy()"
   ]
  },
  {
   "cell_type": "code",
   "execution_count": 321,
   "metadata": {},
   "outputs": [
    {
     "data": {
      "text/html": [
       "<div>\n",
       "<style scoped>\n",
       "    .dataframe tbody tr th:only-of-type {\n",
       "        vertical-align: middle;\n",
       "    }\n",
       "\n",
       "    .dataframe tbody tr th {\n",
       "        vertical-align: top;\n",
       "    }\n",
       "\n",
       "    .dataframe thead th {\n",
       "        text-align: right;\n",
       "    }\n",
       "</style>\n",
       "<table border=\"1\" class=\"dataframe\">\n",
       "  <thead>\n",
       "    <tr style=\"text-align: right;\">\n",
       "      <th></th>\n",
       "      <th>Open</th>\n",
       "      <th>High</th>\n",
       "      <th>Low</th>\n",
       "      <th>Close</th>\n",
       "      <th>Adj Close</th>\n",
       "      <th>Volume</th>\n",
       "    </tr>\n",
       "    <tr>\n",
       "      <th>Date</th>\n",
       "      <th></th>\n",
       "      <th></th>\n",
       "      <th></th>\n",
       "      <th></th>\n",
       "      <th></th>\n",
       "      <th></th>\n",
       "    </tr>\n",
       "  </thead>\n",
       "  <tbody>\n",
       "    <tr>\n",
       "      <th>2010-06-29</th>\n",
       "      <td>19.00</td>\n",
       "      <td>25.00</td>\n",
       "      <td>17.54</td>\n",
       "      <td>23.89</td>\n",
       "      <td>23.89</td>\n",
       "      <td>18766300</td>\n",
       "    </tr>\n",
       "    <tr>\n",
       "      <th>2010-06-30</th>\n",
       "      <td>25.79</td>\n",
       "      <td>30.42</td>\n",
       "      <td>23.30</td>\n",
       "      <td>23.83</td>\n",
       "      <td>23.83</td>\n",
       "      <td>17187100</td>\n",
       "    </tr>\n",
       "    <tr>\n",
       "      <th>2010-07-01</th>\n",
       "      <td>25.00</td>\n",
       "      <td>25.92</td>\n",
       "      <td>20.27</td>\n",
       "      <td>21.96</td>\n",
       "      <td>21.96</td>\n",
       "      <td>8218800</td>\n",
       "    </tr>\n",
       "    <tr>\n",
       "      <th>2010-07-02</th>\n",
       "      <td>23.00</td>\n",
       "      <td>23.10</td>\n",
       "      <td>18.71</td>\n",
       "      <td>19.20</td>\n",
       "      <td>19.20</td>\n",
       "      <td>5139800</td>\n",
       "    </tr>\n",
       "    <tr>\n",
       "      <th>2010-07-06</th>\n",
       "      <td>20.00</td>\n",
       "      <td>20.00</td>\n",
       "      <td>15.83</td>\n",
       "      <td>16.11</td>\n",
       "      <td>16.11</td>\n",
       "      <td>6866900</td>\n",
       "    </tr>\n",
       "  </tbody>\n",
       "</table>\n",
       "</div>"
      ],
      "text/plain": [
       "             Open   High    Low  Close  Adj Close    Volume\n",
       "Date                                                       \n",
       "2010-06-29  19.00  25.00  17.54  23.89      23.89  18766300\n",
       "2010-06-30  25.79  30.42  23.30  23.83      23.83  17187100\n",
       "2010-07-01  25.00  25.92  20.27  21.96      21.96   8218800\n",
       "2010-07-02  23.00  23.10  18.71  19.20      19.20   5139800\n",
       "2010-07-06  20.00  20.00  15.83  16.11      16.11   6866900"
      ]
     },
     "execution_count": 321,
     "metadata": {},
     "output_type": "execute_result"
    }
   ],
   "source": [
    "df.head()"
   ]
  },
  {
   "cell_type": "markdown",
   "metadata": {},
   "source": [
    "### 3. Preprocessing and Feature Extraction"
   ]
  },
  {
   "cell_type": "code",
   "execution_count": 322,
   "metadata": {},
   "outputs": [
    {
     "name": "stdout",
     "output_type": "stream",
     "text": [
      "(2243, 1)\n"
     ]
    },
    {
     "data": {
      "text/plain": [
       "array([[19.  ],\n",
       "       [25.79],\n",
       "       [25.  ],\n",
       "       [23.  ],\n",
       "       [20.  ]])"
      ]
     },
     "execution_count": 322,
     "metadata": {},
     "output_type": "execute_result"
    }
   ],
   "source": [
    "df = df['Open'].values\n",
    "df = df.reshape(-1, 1)\n",
    "print(df.shape)\n",
    "df[:5]"
   ]
  },
  {
   "cell_type": "code",
   "execution_count": 283,
   "metadata": {},
   "outputs": [
    {
     "name": "stdout",
     "output_type": "stream",
     "text": [
      "(1794, 1)\n",
      "(499, 1)\n"
     ]
    }
   ],
   "source": [
    "dataset_train = np.array(df[:int(df.shape[0]*0.8)])\n",
    "dataset_test = np.array(df[int(df.shape[0]*0.8)-50:])\n",
    "print(dataset_train.shape)\n",
    "print(dataset_test.shape)"
   ]
  },
  {
   "cell_type": "code",
   "execution_count": 284,
   "metadata": {},
   "outputs": [
    {
     "data": {
      "text/plain": [
       "array([[0.00771826],\n",
       "       [0.02604237],\n",
       "       [0.0239104 ],\n",
       "       [0.01851302],\n",
       "       [0.01041695],\n",
       "       [0.00070166],\n",
       "       [0.        ],\n",
       "       [0.00388612],\n",
       "       [0.00488463],\n",
       "       [0.00337336]])"
      ]
     },
     "execution_count": 284,
     "metadata": {},
     "output_type": "execute_result"
    }
   ],
   "source": [
    "scaler = MinMaxScaler(feature_range=(0,1))\n",
    "dataset_train = scaler.fit_transform(dataset_train)\n",
    "dataset_train[:10]"
   ]
  },
  {
   "cell_type": "code",
   "execution_count": 285,
   "metadata": {
    "scrolled": true
   },
   "outputs": [
    {
     "data": {
      "text/plain": [
       "array([[0.87337741],\n",
       "       [0.86995007],\n",
       "       [0.88668196],\n",
       "       [0.91809472],\n",
       "       [0.93809203],\n",
       "       [0.96688706],\n",
       "       [0.92254756],\n",
       "       [0.94853596],\n",
       "       [0.98488733],\n",
       "       [0.96170557]])"
      ]
     },
     "execution_count": 285,
     "metadata": {},
     "output_type": "execute_result"
    }
   ],
   "source": [
    "dataset_test = scaler.transform(dataset_test)\n",
    "dataset_test[:10]"
   ]
  },
  {
   "cell_type": "code",
   "execution_count": 286,
   "metadata": {},
   "outputs": [],
   "source": [
    "def create_dataset(df):\n",
    "    x = []\n",
    "    y = []\n",
    "  \n",
    "    for i in range(50, df.shape[0]):\n",
    "        x.append(df[i-50:i, 0])\n",
    "        y.append(df[i, 0])\n",
    "    x = np.array(x)\n",
    "    y = np.array(y)\n",
    "    return x,y "
   ]
  },
  {
   "cell_type": "code",
   "execution_count": 287,
   "metadata": {},
   "outputs": [
    {
     "data": {
      "text/plain": [
       "array([[0.00771826, 0.02604237, 0.0239104 , 0.01851302, 0.01041695,\n",
       "        0.00070166, 0.        , 0.00388612, 0.00488463, 0.00337336,\n",
       "        0.00485764, 0.01025503, 0.01230603, 0.01411415, 0.01540953,\n",
       "        0.01219808, 0.01176629, 0.01362839, 0.01446498, 0.01287276,\n",
       "        0.01190123, 0.01249494, 0.01095669, 0.01176629, 0.01311564,\n",
       "        0.0156794 , 0.01457293, 0.01068682, 0.01014708, 0.00947241,\n",
       "        0.00688166, 0.00447983, 0.00550533, 0.00623398, 0.00761031,\n",
       "        0.00931048, 0.00647686, 0.00677371, 0.00796114, 0.00839293,\n",
       "        0.00815005, 0.01012009, 0.00974227, 0.00960734, 0.00949939,\n",
       "        0.00939145, 0.01141546, 0.01276481, 0.01206315, 0.01219808],\n",
       "       [0.02604237, 0.0239104 , 0.01851302, 0.01041695, 0.00070166,\n",
       "        0.        , 0.00388612, 0.00488463, 0.00337336, 0.00485764,\n",
       "        0.01025503, 0.01230603, 0.01411415, 0.01540953, 0.01219808,\n",
       "        0.01176629, 0.01362839, 0.01446498, 0.01287276, 0.01190123,\n",
       "        0.01249494, 0.01095669, 0.01176629, 0.01311564, 0.0156794 ,\n",
       "        0.01457293, 0.01068682, 0.01014708, 0.00947241, 0.00688166,\n",
       "        0.00447983, 0.00550533, 0.00623398, 0.00761031, 0.00931048,\n",
       "        0.00647686, 0.00677371, 0.00796114, 0.00839293, 0.00815005,\n",
       "        0.01012009, 0.00974227, 0.00960734, 0.00949939, 0.00939145,\n",
       "        0.01141546, 0.01276481, 0.01206315, 0.01219808, 0.01311564]])"
      ]
     },
     "execution_count": 287,
     "metadata": {},
     "output_type": "execute_result"
    }
   ],
   "source": [
    "x_train, y_train = create_dataset(dataset_train)\n",
    "x_train[:2]"
   ]
  },
  {
   "cell_type": "code",
   "execution_count": 288,
   "metadata": {},
   "outputs": [
    {
     "data": {
      "text/plain": [
       "array([0.01311564, 0.01244097, 0.01281878])"
      ]
     },
     "execution_count": 288,
     "metadata": {},
     "output_type": "execute_result"
    }
   ],
   "source": [
    "y_train[:3]"
   ]
  },
  {
   "cell_type": "code",
   "execution_count": 289,
   "metadata": {},
   "outputs": [
    {
     "data": {
      "text/plain": [
       "array([[0.87337741, 0.86995007, 0.88668196, 0.91809472, 0.93809203,\n",
       "        0.96688706, 0.92254756, 0.94853596, 0.98488733, 0.96170557,\n",
       "        0.9764944 , 0.9684523 , 0.97295911, 0.96669815, 0.97652139,\n",
       "        0.98855755, 1.        , 0.97223047, 0.94599919, 0.95660505,\n",
       "        0.93798408, 0.95560653, 0.89342869, 0.81262987, 0.8024828 ,\n",
       "        0.80086358, 0.80922952, 0.84809068, 0.84730806, 0.82863311,\n",
       "        0.83497504, 0.81327756, 0.84223452, 0.83864526, 0.84555391,\n",
       "        0.84765889, 0.88749157, 0.87496964, 0.89019026, 0.86560518,\n",
       "        0.861854  , 0.82812036, 0.81716368, 0.88838213, 0.89288895,\n",
       "        0.9208204 , 0.92130617, 0.93067062, 0.93228984, 0.9197949 ],\n",
       "       [0.86995007, 0.88668196, 0.91809472, 0.93809203, 0.96688706,\n",
       "        0.92254756, 0.94853596, 0.98488733, 0.96170557, 0.9764944 ,\n",
       "        0.9684523 , 0.97295911, 0.96669815, 0.97652139, 0.98855755,\n",
       "        1.        , 0.97223047, 0.94599919, 0.95660505, 0.93798408,\n",
       "        0.95560653, 0.89342869, 0.81262987, 0.8024828 , 0.80086358,\n",
       "        0.80922952, 0.84809068, 0.84730806, 0.82863311, 0.83497504,\n",
       "        0.81327756, 0.84223452, 0.83864526, 0.84555391, 0.84765889,\n",
       "        0.88749157, 0.87496964, 0.89019026, 0.86560518, 0.861854  ,\n",
       "        0.82812036, 0.81716368, 0.88838213, 0.89288895, 0.9208204 ,\n",
       "        0.92130617, 0.93067062, 0.93228984, 0.9197949 , 0.94046687]])"
      ]
     },
     "execution_count": 289,
     "metadata": {},
     "output_type": "execute_result"
    }
   ],
   "source": [
    "x_test, y_test = create_dataset(dataset_test)\n",
    "x_test[:2]"
   ]
  },
  {
   "cell_type": "code",
   "execution_count": 290,
   "metadata": {},
   "outputs": [
    {
     "data": {
      "text/plain": [
       "array([0.94046687, 0.94200513])"
      ]
     },
     "execution_count": 290,
     "metadata": {},
     "output_type": "execute_result"
    }
   ],
   "source": [
    "y_test[:2]"
   ]
  },
  {
   "cell_type": "code",
   "execution_count": 291,
   "metadata": {},
   "outputs": [],
   "source": [
    "# Reshape features for LSTM Layer\n",
    "x_train = x_train.reshape(x_train.shape[0], x_train.shape[1], 1)\n",
    "x_test = x_test.reshape(x_test.shape[0], x_test.shape[1], 1)"
   ]
  },
  {
   "cell_type": "code",
   "execution_count": 292,
   "metadata": {},
   "outputs": [
    {
     "name": "stdout",
     "output_type": "stream",
     "text": [
      "(1744, 50, 1)\n",
      "(449, 50, 1)\n"
     ]
    }
   ],
   "source": [
    "print(x_train.shape)\n",
    "print(x_test.shape)\n"
   ]
  },
  {
   "cell_type": "markdown",
   "metadata": {},
   "source": [
    "### 4. Building Model"
   ]
  },
  {
   "cell_type": "code",
   "execution_count": 293,
   "metadata": {},
   "outputs": [],
   "source": [
    "model = Sequential()\n",
    "model.add(LSTM(units=96, return_sequences=True, input_shape=(x_train.shape[1], 1)))\n",
    "model.add(Dropout(0.2))\n",
    "model.add(LSTM(units=96, return_sequences=True))\n",
    "model.add(Dropout(0.2))\n",
    "model.add(LSTM(units=96, return_sequences=True))\n",
    "model.add(Dropout(0.2))\n",
    "model.add(LSTM(units=96))\n",
    "model.add(Dropout(0.2))\n",
    "model.add(Dense(units=1))"
   ]
  },
  {
   "cell_type": "code",
   "execution_count": 294,
   "metadata": {},
   "outputs": [
    {
     "name": "stdout",
     "output_type": "stream",
     "text": [
      "(50, 1)\n"
     ]
    }
   ],
   "source": [
    "input_shape=(x_train.shape[1], 1)\n",
    "print(input_shape)"
   ]
  },
  {
   "cell_type": "code",
   "execution_count": 295,
   "metadata": {},
   "outputs": [
    {
     "name": "stdout",
     "output_type": "stream",
     "text": [
      "_________________________________________________________________\n",
      "Layer (type)                 Output Shape              Param #   \n",
      "=================================================================\n",
      "lstm_21 (LSTM)               (None, 50, 96)            37632     \n",
      "_________________________________________________________________\n",
      "dropout_21 (Dropout)         (None, 50, 96)            0         \n",
      "_________________________________________________________________\n",
      "lstm_22 (LSTM)               (None, 50, 96)            74112     \n",
      "_________________________________________________________________\n",
      "dropout_22 (Dropout)         (None, 50, 96)            0         \n",
      "_________________________________________________________________\n",
      "lstm_23 (LSTM)               (None, 50, 96)            74112     \n",
      "_________________________________________________________________\n",
      "dropout_23 (Dropout)         (None, 50, 96)            0         \n",
      "_________________________________________________________________\n",
      "lstm_24 (LSTM)               (None, 96)                74112     \n",
      "_________________________________________________________________\n",
      "dropout_24 (Dropout)         (None, 96)                0         \n",
      "_________________________________________________________________\n",
      "dense_6 (Dense)              (None, 1)                 97        \n",
      "=================================================================\n",
      "Total params: 260,065\n",
      "Trainable params: 260,065\n",
      "Non-trainable params: 0\n",
      "_________________________________________________________________\n"
     ]
    }
   ],
   "source": [
    "model.summary()"
   ]
  },
  {
   "cell_type": "code",
   "execution_count": 306,
   "metadata": {},
   "outputs": [],
   "source": [
    "model.compile(loss=MSE, optimizer=Adam())"
   ]
  },
  {
   "cell_type": "code",
   "execution_count": 307,
   "metadata": {},
   "outputs": [],
   "source": [
    "from keras.callbacks import ReduceLROnPlateau\n",
    "\n",
    "checkpointer = ModelCheckpoint(filepath='tesla.stock_prediction.hdf5',save_best_only=True,verbose=1)\n",
    "\n",
    "callbacks = [checkpointer, reduce_lr]"
   ]
  },
  {
   "cell_type": "code",
   "execution_count": 308,
   "metadata": {
    "scrolled": true
   },
   "outputs": [
    {
     "name": "stdout",
     "output_type": "stream",
     "text": [
      "Train on 1656 samples, validate on 88 samples\n",
      "Epoch 1/70\n",
      "1656/1656 [==============================] - 22s 14ms/step - loss: 0.0027 - val_loss: 0.0102\n",
      "\n",
      "Epoch 00001: val_loss improved from inf to 0.01024, saving model to tesla.stock_prediction.hdf5\n",
      "Epoch 2/70\n",
      "1656/1656 [==============================] - 14s 9ms/step - loss: 0.0020 - val_loss: 0.0134\n",
      "\n",
      "Epoch 00002: val_loss did not improve from 0.01024\n",
      "Epoch 3/70\n",
      "1656/1656 [==============================] - 15s 9ms/step - loss: 0.0017 - val_loss: 0.0043\n",
      "\n",
      "Epoch 00003: val_loss improved from 0.01024 to 0.00431, saving model to tesla.stock_prediction.hdf5\n",
      "Epoch 4/70\n",
      "1656/1656 [==============================] - 14s 9ms/step - loss: 0.0015 - val_loss: 0.0030\n",
      "\n",
      "Epoch 00004: val_loss improved from 0.00431 to 0.00296, saving model to tesla.stock_prediction.hdf5\n",
      "Epoch 5/70\n",
      "1656/1656 [==============================] - 14s 8ms/step - loss: 0.0016 - val_loss: 0.0077\n",
      "\n",
      "Epoch 00005: val_loss did not improve from 0.00296\n",
      "Epoch 6/70\n",
      "1656/1656 [==============================] - 14s 8ms/step - loss: 0.0013 - val_loss: 0.0113\n",
      "\n",
      "Epoch 00006: val_loss did not improve from 0.00296\n",
      "Epoch 7/70\n",
      "1656/1656 [==============================] - 15s 9ms/step - loss: 0.0013 - val_loss: 0.0125\n",
      "\n",
      "Epoch 00007: val_loss did not improve from 0.00296\n",
      "Epoch 8/70\n",
      "1656/1656 [==============================] - 15s 9ms/step - loss: 0.0013 - val_loss: 0.0080\n",
      "\n",
      "Epoch 00008: val_loss did not improve from 0.00296\n",
      "Epoch 9/70\n",
      "1656/1656 [==============================] - 15s 9ms/step - loss: 0.0014 - val_loss: 0.0039\n",
      "\n",
      "Epoch 00009: val_loss did not improve from 0.00296\n",
      "Epoch 10/70\n",
      "1656/1656 [==============================] - 15s 9ms/step - loss: 0.0014 - val_loss: 0.0065\n",
      "\n",
      "Epoch 00010: val_loss did not improve from 0.00296\n",
      "Epoch 11/70\n",
      "1656/1656 [==============================] - 14s 9ms/step - loss: 0.0013 - val_loss: 0.0042\n",
      "\n",
      "Epoch 00011: val_loss did not improve from 0.00296\n",
      "Epoch 12/70\n",
      "1656/1656 [==============================] - 14s 9ms/step - loss: 0.0015 - val_loss: 0.0021\n",
      "\n",
      "Epoch 00012: val_loss improved from 0.00296 to 0.00210, saving model to tesla.stock_prediction.hdf5\n",
      "Epoch 13/70\n",
      "1656/1656 [==============================] - 15s 9ms/step - loss: 0.0011 - val_loss: 0.0029\n",
      "\n",
      "Epoch 00013: val_loss did not improve from 0.00210\n",
      "Epoch 14/70\n",
      "1656/1656 [==============================] - 14s 8ms/step - loss: 0.0011 - val_loss: 0.0014\n",
      "\n",
      "Epoch 00014: val_loss improved from 0.00210 to 0.00142, saving model to tesla.stock_prediction.hdf5\n",
      "Epoch 15/70\n",
      "1656/1656 [==============================] - 14s 9ms/step - loss: 0.0013 - val_loss: 0.0045\n",
      "\n",
      "Epoch 00015: val_loss did not improve from 0.00142\n",
      "Epoch 16/70\n",
      "1656/1656 [==============================] - 14s 9ms/step - loss: 9.9932e-04 - val_loss: 0.0057\n",
      "\n",
      "Epoch 00016: val_loss did not improve from 0.00142\n",
      "Epoch 17/70\n",
      "1656/1656 [==============================] - 15s 9ms/step - loss: 0.0010 - val_loss: 0.0031\n",
      "\n",
      "Epoch 00017: val_loss did not improve from 0.00142\n",
      "Epoch 18/70\n",
      "1656/1656 [==============================] - 15s 9ms/step - loss: 0.0010 - val_loss: 0.0044\n",
      "\n",
      "Epoch 00018: val_loss did not improve from 0.00142\n",
      "Epoch 19/70\n",
      "1656/1656 [==============================] - 15s 9ms/step - loss: 9.2068e-04 - val_loss: 0.0030\n",
      "\n",
      "Epoch 00019: val_loss did not improve from 0.00142\n",
      "Epoch 20/70\n",
      "1656/1656 [==============================] - 15s 9ms/step - loss: 9.6326e-04 - val_loss: 0.0024\n",
      "\n",
      "Epoch 00020: val_loss did not improve from 0.00142\n",
      "Epoch 21/70\n",
      "1656/1656 [==============================] - 15s 9ms/step - loss: 9.8005e-04 - val_loss: 0.0024\n",
      "\n",
      "Epoch 00021: val_loss did not improve from 0.00142\n",
      "Epoch 22/70\n",
      "1656/1656 [==============================] - 16s 10ms/step - loss: 9.9515e-04 - val_loss: 0.0039\n",
      "\n",
      "Epoch 00022: val_loss did not improve from 0.00142\n",
      "Epoch 23/70\n",
      "1656/1656 [==============================] - 16s 10ms/step - loss: 9.6264e-04 - val_loss: 0.0010\n",
      "\n",
      "Epoch 00023: val_loss improved from 0.00142 to 0.00102, saving model to tesla.stock_prediction.hdf5\n",
      "Epoch 24/70\n",
      "1656/1656 [==============================] - 15s 9ms/step - loss: 8.7451e-04 - val_loss: 0.0026\n",
      "\n",
      "Epoch 00024: val_loss did not improve from 0.00102\n",
      "Epoch 25/70\n",
      "1656/1656 [==============================] - 15s 9ms/step - loss: 0.0010 - val_loss: 9.5695e-04\n",
      "\n",
      "Epoch 00025: val_loss improved from 0.00102 to 0.00096, saving model to tesla.stock_prediction.hdf5\n",
      "Epoch 26/70\n",
      "1656/1656 [==============================] - 15s 9ms/step - loss: 9.8500e-04 - val_loss: 0.0051\n",
      "\n",
      "Epoch 00026: val_loss did not improve from 0.00096\n",
      "Epoch 27/70\n",
      "1656/1656 [==============================] - 15s 9ms/step - loss: 9.0786e-04 - val_loss: 0.0012\n",
      "\n",
      "Epoch 00027: val_loss did not improve from 0.00096\n",
      "Epoch 28/70\n",
      "1656/1656 [==============================] - 15s 9ms/step - loss: 9.0077e-04 - val_loss: 0.0015\n",
      "\n",
      "Epoch 00028: val_loss did not improve from 0.00096\n",
      "Epoch 29/70\n",
      "1656/1656 [==============================] - 15s 9ms/step - loss: 9.1232e-04 - val_loss: 9.3966e-04\n",
      "\n",
      "Epoch 00029: val_loss improved from 0.00096 to 0.00094, saving model to tesla.stock_prediction.hdf5\n",
      "Epoch 30/70\n",
      "1656/1656 [==============================] - 15s 9ms/step - loss: 8.2461e-04 - val_loss: 0.0013\n",
      "\n",
      "Epoch 00030: val_loss did not improve from 0.00094\n",
      "Epoch 31/70\n",
      "1656/1656 [==============================] - 16s 9ms/step - loss: 8.4522e-04 - val_loss: 8.4502e-04\n",
      "\n",
      "Epoch 00031: val_loss improved from 0.00094 to 0.00085, saving model to tesla.stock_prediction.hdf5\n",
      "Epoch 32/70\n",
      "1656/1656 [==============================] - 15s 9ms/step - loss: 7.8526e-04 - val_loss: 8.2453e-04\n",
      "\n",
      "Epoch 00032: val_loss improved from 0.00085 to 0.00082, saving model to tesla.stock_prediction.hdf5\n",
      "Epoch 33/70\n",
      "1656/1656 [==============================] - 15s 9ms/step - loss: 8.3611e-04 - val_loss: 0.0019\n",
      "\n",
      "Epoch 00033: val_loss did not improve from 0.00082\n",
      "Epoch 34/70\n",
      "1656/1656 [==============================] - 14s 9ms/step - loss: 8.4682e-04 - val_loss: 0.0036\n",
      "\n",
      "Epoch 00034: val_loss did not improve from 0.00082\n",
      "Epoch 35/70\n",
      "1656/1656 [==============================] - 15s 9ms/step - loss: 7.9097e-04 - val_loss: 0.0019\n",
      "\n",
      "Epoch 00035: val_loss did not improve from 0.00082\n",
      "Epoch 36/70\n",
      "1656/1656 [==============================] - 14s 9ms/step - loss: 8.4889e-04 - val_loss: 0.0052\n",
      "\n",
      "Epoch 00036: val_loss did not improve from 0.00082\n",
      "Epoch 37/70\n",
      "1656/1656 [==============================] - 14s 9ms/step - loss: 8.4524e-04 - val_loss: 0.0011\n",
      "\n",
      "Epoch 00037: val_loss did not improve from 0.00082\n",
      "Epoch 38/70\n",
      "1656/1656 [==============================] - 15s 9ms/step - loss: 7.8903e-04 - val_loss: 7.7102e-04\n",
      "\n",
      "Epoch 00038: val_loss improved from 0.00082 to 0.00077, saving model to tesla.stock_prediction.hdf5\n",
      "Epoch 39/70\n",
      "1656/1656 [==============================] - 14s 8ms/step - loss: 7.1460e-04 - val_loss: 0.0011\n",
      "\n",
      "Epoch 00039: val_loss did not improve from 0.00077\n",
      "Epoch 40/70\n",
      "1656/1656 [==============================] - 14s 9ms/step - loss: 8.1981e-04 - val_loss: 0.0013\n",
      "\n",
      "Epoch 00040: val_loss did not improve from 0.00077\n",
      "Epoch 41/70\n",
      "1656/1656 [==============================] - 14s 9ms/step - loss: 7.4156e-04 - val_loss: 7.7606e-04\n",
      "\n",
      "Epoch 00041: val_loss did not improve from 0.00077\n",
      "Epoch 42/70\n",
      "1656/1656 [==============================] - 14s 9ms/step - loss: 7.6655e-04 - val_loss: 9.7179e-04\n",
      "\n",
      "Epoch 00042: val_loss did not improve from 0.00077\n",
      "Epoch 43/70\n",
      "1656/1656 [==============================] - 14s 9ms/step - loss: 6.9966e-04 - val_loss: 0.0012\n",
      "\n",
      "Epoch 00043: val_loss did not improve from 0.00077\n",
      "Epoch 44/70\n",
      "1656/1656 [==============================] - 14s 9ms/step - loss: 7.2838e-04 - val_loss: 0.0012\n",
      "\n",
      "Epoch 00044: val_loss did not improve from 0.00077\n",
      "Epoch 45/70\n",
      "1656/1656 [==============================] - 14s 9ms/step - loss: 6.6397e-04 - val_loss: 7.3909e-04\n",
      "\n",
      "Epoch 00045: val_loss improved from 0.00077 to 0.00074, saving model to tesla.stock_prediction.hdf5\n",
      "Epoch 46/70\n",
      "1656/1656 [==============================] - 14s 9ms/step - loss: 7.3594e-04 - val_loss: 9.2239e-04\n",
      "\n",
      "Epoch 00046: val_loss did not improve from 0.00074\n",
      "Epoch 47/70\n",
      "1656/1656 [==============================] - 14s 9ms/step - loss: 7.1705e-04 - val_loss: 0.0012\n",
      "\n",
      "Epoch 00047: val_loss did not improve from 0.00074\n",
      "Epoch 48/70\n",
      "1656/1656 [==============================] - 14s 9ms/step - loss: 7.6974e-04 - val_loss: 6.5555e-04\n"
     ]
    },
    {
     "name": "stdout",
     "output_type": "stream",
     "text": [
      "\n",
      "Epoch 00048: val_loss improved from 0.00074 to 0.00066, saving model to tesla.stock_prediction.hdf5\n",
      "Epoch 49/70\n",
      "1656/1656 [==============================] - 15s 9ms/step - loss: 8.4718e-04 - val_loss: 7.1374e-04\n",
      "\n",
      "Epoch 00049: val_loss did not improve from 0.00066\n",
      "Epoch 50/70\n",
      "1656/1656 [==============================] - 15s 9ms/step - loss: 7.4590e-04 - val_loss: 0.0043\n",
      "\n",
      "Epoch 00050: val_loss did not improve from 0.00066\n",
      "Epoch 51/70\n",
      "1656/1656 [==============================] - 16s 9ms/step - loss: 8.2506e-04 - val_loss: 9.2117e-04\n",
      "\n",
      "Epoch 00051: val_loss did not improve from 0.00066\n",
      "Epoch 52/70\n",
      "1656/1656 [==============================] - 15s 9ms/step - loss: 7.5005e-04 - val_loss: 7.0608e-04\n",
      "\n",
      "Epoch 00052: val_loss did not improve from 0.00066\n",
      "Epoch 53/70\n",
      "1656/1656 [==============================] - 15s 9ms/step - loss: 9.7618e-04 - val_loss: 0.0012\n",
      "\n",
      "Epoch 00053: val_loss did not improve from 0.00066\n",
      "Epoch 54/70\n",
      "1656/1656 [==============================] - 15s 9ms/step - loss: 7.6028e-04 - val_loss: 0.0020\n",
      "\n",
      "Epoch 00054: val_loss did not improve from 0.00066\n",
      "Epoch 55/70\n",
      "1656/1656 [==============================] - 15s 9ms/step - loss: 7.4778e-04 - val_loss: 5.7539e-04\n",
      "\n",
      "Epoch 00055: val_loss improved from 0.00066 to 0.00058, saving model to tesla.stock_prediction.hdf5\n",
      "Epoch 56/70\n",
      "1656/1656 [==============================] - 15s 9ms/step - loss: 6.8909e-04 - val_loss: 5.5063e-04\n",
      "\n",
      "Epoch 00056: val_loss improved from 0.00058 to 0.00055, saving model to tesla.stock_prediction.hdf5\n",
      "Epoch 57/70\n",
      "1656/1656 [==============================] - 15s 9ms/step - loss: 7.0467e-04 - val_loss: 6.9756e-04\n",
      "\n",
      "Epoch 00057: val_loss did not improve from 0.00055\n",
      "Epoch 58/70\n",
      "1656/1656 [==============================] - 15s 9ms/step - loss: 7.5457e-04 - val_loss: 0.0029\n",
      "\n",
      "Epoch 00058: val_loss did not improve from 0.00055\n",
      "Epoch 59/70\n",
      "1656/1656 [==============================] - 15s 9ms/step - loss: 6.6202e-04 - val_loss: 0.0030\n",
      "\n",
      "Epoch 00059: val_loss did not improve from 0.00055\n",
      "Epoch 60/70\n",
      "1656/1656 [==============================] - 15s 9ms/step - loss: 8.1161e-04 - val_loss: 8.6588e-04\n",
      "\n",
      "Epoch 00060: val_loss did not improve from 0.00055\n",
      "Epoch 61/70\n",
      "1656/1656 [==============================] - 15s 9ms/step - loss: 6.9118e-04 - val_loss: 0.0038\n",
      "\n",
      "Epoch 00061: val_loss did not improve from 0.00055\n",
      "Epoch 62/70\n",
      "1656/1656 [==============================] - 15s 9ms/step - loss: 7.2462e-04 - val_loss: 7.4066e-04\n",
      "\n",
      "Epoch 00062: val_loss did not improve from 0.00055\n",
      "Epoch 63/70\n",
      "1656/1656 [==============================] - 15s 9ms/step - loss: 6.5994e-04 - val_loss: 0.0012\n",
      "\n",
      "Epoch 00063: val_loss did not improve from 0.00055\n",
      "Epoch 64/70\n",
      "1656/1656 [==============================] - 15s 9ms/step - loss: 6.9739e-04 - val_loss: 5.6065e-04\n",
      "\n",
      "Epoch 00064: val_loss did not improve from 0.00055\n",
      "Epoch 65/70\n",
      "1656/1656 [==============================] - 15s 9ms/step - loss: 7.0039e-04 - val_loss: 5.4842e-04\n",
      "\n",
      "Epoch 00065: val_loss improved from 0.00055 to 0.00055, saving model to tesla.stock_prediction.hdf5\n",
      "Epoch 66/70\n",
      "1656/1656 [==============================] - 15s 9ms/step - loss: 6.8072e-04 - val_loss: 0.0012\n",
      "\n",
      "Epoch 00066: val_loss did not improve from 0.00055\n",
      "Epoch 67/70\n",
      "1656/1656 [==============================] - 15s 9ms/step - loss: 6.0171e-04 - val_loss: 0.0033\n",
      "\n",
      "Epoch 00067: val_loss did not improve from 0.00055\n",
      "Epoch 68/70\n",
      "1656/1656 [==============================] - 15s 9ms/step - loss: 8.0752e-04 - val_loss: 5.1532e-04\n",
      "\n",
      "Epoch 00068: val_loss improved from 0.00055 to 0.00052, saving model to tesla.stock_prediction.hdf5\n",
      "Epoch 69/70\n",
      "1656/1656 [==============================] - 15s 9ms/step - loss: 7.4742e-04 - val_loss: 5.2186e-04\n",
      "\n",
      "Epoch 00069: val_loss did not improve from 0.00052\n",
      "Epoch 70/70\n",
      "1656/1656 [==============================] - 15s 9ms/step - loss: 6.8032e-04 - val_loss: 5.4839e-04\n",
      "\n",
      "Epoch 00070: val_loss did not improve from 0.00052\n"
     ]
    }
   ],
   "source": [
    "\n",
    "history = model.fit(x_train,y_train,batch_size=32,epochs=70,verbose=1,callbacks=[checkpointer],validation_split=0.05)\n"
   ]
  },
  {
   "cell_type": "code",
   "execution_count": 309,
   "metadata": {},
   "outputs": [],
   "source": [
    "model = load_model('tesla.stock_prediction.hdf5')"
   ]
  }
 ],
 "metadata": {
  "kernelspec": {
   "display_name": "Python 3",
   "language": "python",
   "name": "python3"
  },
  "language_info": {
   "codemirror_mode": {
    "name": "ipython",
    "version": 3
   },
   "file_extension": ".py",
   "mimetype": "text/x-python",
   "name": "python",
   "nbconvert_exporter": "python",
   "pygments_lexer": "ipython3",
   "version": "3.6.8"
  }
 },
 "nbformat": 4,
 "nbformat_minor": 2
}
