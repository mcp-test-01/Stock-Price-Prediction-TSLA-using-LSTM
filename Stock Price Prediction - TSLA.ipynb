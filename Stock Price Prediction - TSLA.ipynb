{
 "cells": [
  {
   "cell_type": "markdown",
   "metadata": {},
   "source": [
    "### 1. Imports"
   ]
  },
  {
   "cell_type": "code",
   "execution_count": 227,
   "metadata": {},
   "outputs": [],
   "source": [
    "import yfinance as yf  \n",
    "import numpy as np\n",
    "import pandas as pd\n",
    "import seaborn as sns\n",
    "import matplotlib.pyplot as plt\n",
    "from sklearn.preprocessing import MinMaxScaler\n",
    "from keras.models import Sequential, load_model\n",
    "from keras.layers import LSTM, Dense, Dropout\n",
    "from keras.callbacks import ModelCheckpoint\n",
    "from keras.losses import MSE\n",
    "from keras.optimizers import Adam\n",
    "import os\n",
    "\n",
    "sns.set()"
   ]
  },
  {
   "cell_type": "markdown",
   "metadata": {},
   "source": [
    "### 2. Loading in Dataset"
   ]
  },
  {
   "cell_type": "code",
   "execution_count": 319,
   "metadata": {},
   "outputs": [
    {
     "name": "stdout",
     "output_type": "stream",
     "text": [
      "[*********************100%***********************]  1 of 1 downloaded\n"
     ]
    }
   ],
   "source": [
    "import matplotlib.pyplot as plt\n",
    "df = yf.download('TSLA','2010-06-29','2019-05-28',interval='1d')\n"
   ]
  },
  {
   "cell_type": "code",
   "execution_count": 320,
   "metadata": {},
   "outputs": [],
   "source": [
    "df1 = df.copy()"
   ]
  },
  {
   "cell_type": "code",
   "execution_count": 321,
   "metadata": {},
   "outputs": [
    {
     "data": {
      "text/html": [
       "<div>\n",
       "<style scoped>\n",
       "    .dataframe tbody tr th:only-of-type {\n",
       "        vertical-align: middle;\n",
       "    }\n",
       "\n",
       "    .dataframe tbody tr th {\n",
       "        vertical-align: top;\n",
       "    }\n",
       "\n",
       "    .dataframe thead th {\n",
       "        text-align: right;\n",
       "    }\n",
       "</style>\n",
       "<table border=\"1\" class=\"dataframe\">\n",
       "  <thead>\n",
       "    <tr style=\"text-align: right;\">\n",
       "      <th></th>\n",
       "      <th>Open</th>\n",
       "      <th>High</th>\n",
       "      <th>Low</th>\n",
       "      <th>Close</th>\n",
       "      <th>Adj Close</th>\n",
       "      <th>Volume</th>\n",
       "    </tr>\n",
       "    <tr>\n",
       "      <th>Date</th>\n",
       "      <th></th>\n",
       "      <th></th>\n",
       "      <th></th>\n",
       "      <th></th>\n",
       "      <th></th>\n",
       "      <th></th>\n",
       "    </tr>\n",
       "  </thead>\n",
       "  <tbody>\n",
       "    <tr>\n",
       "      <th>2010-06-29</th>\n",
       "      <td>19.00</td>\n",
       "      <td>25.00</td>\n",
       "      <td>17.54</td>\n",
       "      <td>23.89</td>\n",
       "      <td>23.89</td>\n",
       "      <td>18766300</td>\n",
       "    </tr>\n",
       "    <tr>\n",
       "      <th>2010-06-30</th>\n",
       "      <td>25.79</td>\n",
       "      <td>30.42</td>\n",
       "      <td>23.30</td>\n",
       "      <td>23.83</td>\n",
       "      <td>23.83</td>\n",
       "      <td>17187100</td>\n",
       "    </tr>\n",
       "    <tr>\n",
       "      <th>2010-07-01</th>\n",
       "      <td>25.00</td>\n",
       "      <td>25.92</td>\n",
       "      <td>20.27</td>\n",
       "      <td>21.96</td>\n",
       "      <td>21.96</td>\n",
       "      <td>8218800</td>\n",
       "    </tr>\n",
       "    <tr>\n",
       "      <th>2010-07-02</th>\n",
       "      <td>23.00</td>\n",
       "      <td>23.10</td>\n",
       "      <td>18.71</td>\n",
       "      <td>19.20</td>\n",
       "      <td>19.20</td>\n",
       "      <td>5139800</td>\n",
       "    </tr>\n",
       "    <tr>\n",
       "      <th>2010-07-06</th>\n",
       "      <td>20.00</td>\n",
       "      <td>20.00</td>\n",
       "      <td>15.83</td>\n",
       "      <td>16.11</td>\n",
       "      <td>16.11</td>\n",
       "      <td>6866900</td>\n",
       "    </tr>\n",
       "  </tbody>\n",
       "</table>\n",
       "</div>"
      ],
      "text/plain": [
       "             Open   High    Low  Close  Adj Close    Volume\n",
       "Date                                                       \n",
       "2010-06-29  19.00  25.00  17.54  23.89      23.89  18766300\n",
       "2010-06-30  25.79  30.42  23.30  23.83      23.83  17187100\n",
       "2010-07-01  25.00  25.92  20.27  21.96      21.96   8218800\n",
       "2010-07-02  23.00  23.10  18.71  19.20      19.20   5139800\n",
       "2010-07-06  20.00  20.00  15.83  16.11      16.11   6866900"
      ]
     },
     "execution_count": 321,
     "metadata": {},
     "output_type": "execute_result"
    }
   ],
   "source": [
    "df.head()"
   ]
  },
  {
   "cell_type": "markdown",
   "metadata": {},
   "source": [
    "### 3. Preprocessing and Feature Extraction"
   ]
  },
  {
   "cell_type": "code",
   "execution_count": 322,
   "metadata": {},
   "outputs": [
    {
     "name": "stdout",
     "output_type": "stream",
     "text": [
      "(2243, 1)\n"
     ]
    },
    {
     "data": {
      "text/plain": [
       "array([[19.  ],\n",
       "       [25.79],\n",
       "       [25.  ],\n",
       "       [23.  ],\n",
       "       [20.  ]])"
      ]
     },
     "execution_count": 322,
     "metadata": {},
     "output_type": "execute_result"
    }
   ],
   "source": [
    "df = df['Open'].values\n",
    "df = df.reshape(-1, 1)\n",
    "print(df.shape)\n",
    "df[:5]"
   ]
  },
  {
   "cell_type": "code",
   "execution_count": 283,
   "metadata": {},
   "outputs": [
    {
     "name": "stdout",
     "output_type": "stream",
     "text": [
      "(1794, 1)\n",
      "(499, 1)\n"
     ]
    }
   ],
   "source": [
    "dataset_train = np.array(df[:int(df.shape[0]*0.8)])\n",
    "dataset_test = np.array(df[int(df.shape[0]*0.8)-50:])\n",
    "print(dataset_train.shape)\n",
    "print(dataset_test.shape)"
   ]
  },
  {
   "cell_type": "code",
   "execution_count": 284,
   "metadata": {},
   "outputs": [
    {
     "data": {
      "text/plain": [
       "array([[0.00771826],\n",
       "       [0.02604237],\n",
       "       [0.0239104 ],\n",
       "       [0.01851302],\n",
       "       [0.01041695],\n",
       "       [0.00070166],\n",
       "       [0.        ],\n",
       "       [0.00388612],\n",
       "       [0.00488463],\n",
       "       [0.00337336]])"
      ]
     },
     "execution_count": 284,
     "metadata": {},
     "output_type": "execute_result"
    }
   ],
   "source": [
    "scaler = MinMaxScaler(feature_range=(0,1))\n",
    "dataset_train = scaler.fit_transform(dataset_train)\n",
    "dataset_train[:10]"
   ]
  },
  {
   "cell_type": "code",
   "execution_count": 285,
   "metadata": {
    "scrolled": true
   },
   "outputs": [
    {
     "data": {
      "text/plain": [
       "array([[0.87337741],\n",
       "       [0.86995007],\n",
       "       [0.88668196],\n",
       "       [0.91809472],\n",
       "       [0.93809203],\n",
       "       [0.96688706],\n",
       "       [0.92254756],\n",
       "       [0.94853596],\n",
       "       [0.98488733],\n",
       "       [0.96170557]])"
      ]
     },
     "execution_count": 285,
     "metadata": {},
     "output_type": "execute_result"
    }
   ],
   "source": [
    "dataset_test = scaler.transform(dataset_test)\n",
    "dataset_test[:10]"
   ]
  },
  {
   "cell_type": "code",
   "execution_count": 286,
   "metadata": {},
   "outputs": [],
   "source": [
    "def create_dataset(df):\n",
    "    x = []\n",
    "    y = []\n",
    "  \n",
    "    for i in range(50, df.shape[0]):\n",
    "        x.append(df[i-50:i, 0])\n",
    "        y.append(df[i, 0])\n",
    "    x = np.array(x)\n",
    "    y = np.array(y)\n",
    "    return x,y "
   ]
  },
  {
   "cell_type": "code",
   "execution_count": 287,
   "metadata": {},
   "outputs": [
    {
     "data": {
      "text/plain": [
       "array([[0.00771826, 0.02604237, 0.0239104 , 0.01851302, 0.01041695,\n",
       "        0.00070166, 0.        , 0.00388612, 0.00488463, 0.00337336,\n",
       "        0.00485764, 0.01025503, 0.01230603, 0.01411415, 0.01540953,\n",
       "        0.01219808, 0.01176629, 0.01362839, 0.01446498, 0.01287276,\n",
       "        0.01190123, 0.01249494, 0.01095669, 0.01176629, 0.01311564,\n",
       "        0.0156794 , 0.01457293, 0.01068682, 0.01014708, 0.00947241,\n",
       "        0.00688166, 0.00447983, 0.00550533, 0.00623398, 0.00761031,\n",
       "        0.00931048, 0.00647686, 0.00677371, 0.00796114, 0.00839293,\n",
       "        0.00815005, 0.01012009, 0.00974227, 0.00960734, 0.00949939,\n",
       "        0.00939145, 0.01141546, 0.01276481, 0.01206315, 0.01219808],\n",
       "       [0.02604237, 0.0239104 , 0.01851302, 0.01041695, 0.00070166,\n",
       "        0.        , 0.00388612, 0.00488463, 0.00337336, 0.00485764,\n",
       "        0.01025503, 0.01230603, 0.01411415, 0.01540953, 0.01219808,\n",
       "        0.01176629, 0.01362839, 0.01446498, 0.01287276, 0.01190123,\n",
       "        0.01249494, 0.01095669, 0.01176629, 0.01311564, 0.0156794 ,\n",
       "        0.01457293, 0.01068682, 0.01014708, 0.00947241, 0.00688166,\n",
       "        0.00447983, 0.00550533, 0.00623398, 0.00761031, 0.00931048,\n",
       "        0.00647686, 0.00677371, 0.00796114, 0.00839293, 0.00815005,\n",
       "        0.01012009, 0.00974227, 0.00960734, 0.00949939, 0.00939145,\n",
       "        0.01141546, 0.01276481, 0.01206315, 0.01219808, 0.01311564]])"
      ]
     },
     "execution_count": 287,
     "metadata": {},
     "output_type": "execute_result"
    }
   ],
   "source": [
    "x_train, y_train = create_dataset(dataset_train)\n",
    "x_train[:2]"
   ]
  },
  {
   "cell_type": "code",
   "execution_count": 288,
   "metadata": {},
   "outputs": [
    {
     "data": {
      "text/plain": [
       "array([0.01311564, 0.01244097, 0.01281878])"
      ]
     },
     "execution_count": 288,
     "metadata": {},
     "output_type": "execute_result"
    }
   ],
   "source": [
    "y_train[:3]"
   ]
  },
  {
   "cell_type": "code",
   "execution_count": 289,
   "metadata": {},
   "outputs": [
    {
     "data": {
      "text/plain": [
       "array([[0.87337741, 0.86995007, 0.88668196, 0.91809472, 0.93809203,\n",
       "        0.96688706, 0.92254756, 0.94853596, 0.98488733, 0.96170557,\n",
       "        0.9764944 , 0.9684523 , 0.97295911, 0.96669815, 0.97652139,\n",
       "        0.98855755, 1.        , 0.97223047, 0.94599919, 0.95660505,\n",
       "        0.93798408, 0.95560653, 0.89342869, 0.81262987, 0.8024828 ,\n",
       "        0.80086358, 0.80922952, 0.84809068, 0.84730806, 0.82863311,\n",
       "        0.83497504, 0.81327756, 0.84223452, 0.83864526, 0.84555391,\n",
       "        0.84765889, 0.88749157, 0.87496964, 0.89019026, 0.86560518,\n",
       "        0.861854  , 0.82812036, 0.81716368, 0.88838213, 0.89288895,\n",
       "        0.9208204 , 0.92130617, 0.93067062, 0.93228984, 0.9197949 ],\n",
       "       [0.86995007, 0.88668196, 0.91809472, 0.93809203, 0.96688706,\n",
       "        0.92254756, 0.94853596, 0.98488733, 0.96170557, 0.9764944 ,\n",
       "        0.9684523 , 0.97295911, 0.96669815, 0.97652139, 0.98855755,\n",
       "        1.        , 0.97223047, 0.94599919, 0.95660505, 0.93798408,\n",
       "        0.95560653, 0.89342869, 0.81262987, 0.8024828 , 0.80086358,\n",
       "        0.80922952, 0.84809068, 0.84730806, 0.82863311, 0.83497504,\n",
       "        0.81327756, 0.84223452, 0.83864526, 0.84555391, 0.84765889,\n",
       "        0.88749157, 0.87496964, 0.89019026, 0.86560518, 0.861854  ,\n",
       "        0.82812036, 0.81716368, 0.88838213, 0.89288895, 0.9208204 ,\n",
       "        0.92130617, 0.93067062, 0.93228984, 0.9197949 , 0.94046687]])"
      ]
     },
     "execution_count": 289,
     "metadata": {},
     "output_type": "execute_result"
    }
   ],
   "source": [
    "x_test, y_test = create_dataset(dataset_test)\n",
    "x_test[:2]"
   ]
  },
  {
   "cell_type": "code",
   "execution_count": 290,
   "metadata": {},
   "outputs": [
    {
     "data": {
      "text/plain": [
       "array([0.94046687, 0.94200513])"
      ]
     },
     "execution_count": 290,
     "metadata": {},
     "output_type": "execute_result"
    }
   ],
   "source": [
    "y_test[:2]"
   ]
  },
  {
   "cell_type": "code",
   "execution_count": 291,
   "metadata": {},
   "outputs": [],
   "source": [
    "# Reshape features for LSTM Layer\n",
    "x_train = x_train.reshape(x_train.shape[0], x_train.shape[1], 1)\n",
    "x_test = x_test.reshape(x_test.shape[0], x_test.shape[1], 1)"
   ]
  },
  {
   "cell_type": "code",
   "execution_count": 292,
   "metadata": {},
   "outputs": [
    {
     "name": "stdout",
     "output_type": "stream",
     "text": [
      "(1744, 50, 1)\n",
      "(449, 50, 1)\n"
     ]
    }
   ],
   "source": [
    "print(x_train.shape)\n",
    "print(x_test.shape)\n"
   ]
  },
  {
   "cell_type": "code",
   "execution_count": null,
   "metadata": {},
   "outputs": [],
   "source": []
  }
 ],
 "metadata": {
  "kernelspec": {
   "display_name": "Python 3",
   "language": "python",
   "name": "python3"
  },
  "language_info": {
   "codemirror_mode": {
    "name": "ipython",
    "version": 3
   },
   "file_extension": ".py",
   "mimetype": "text/x-python",
   "name": "python",
   "nbconvert_exporter": "python",
   "pygments_lexer": "ipython3",
   "version": "3.6.8"
  }
 },
 "nbformat": 4,
 "nbformat_minor": 2
}
